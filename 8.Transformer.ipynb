{
 "cells": [
  {
   "cell_type": "markdown",
   "metadata": {
    "id": "mhqxuCjNO6NS"
   },
   "source": [
    "### **Cross-Encoder for Hallucination Detection**\n"
   ]
  },
  {
   "cell_type": "code",
   "execution_count": null,
   "metadata": {
    "id": "7-uzlytuJuwe"
   },
   "outputs": [],
   "source": [
    "!pip install sentence_transformers"
   ]
  },
  {
   "cell_type": "code",
   "execution_count": null,
   "metadata": {
    "id": "sCNjC-qDJdf3"
   },
   "outputs": [],
   "source": [
    "from sentence_transformers import CrossEncoder"
   ]
  },
  {
   "cell_type": "code",
   "execution_count": null,
   "metadata": {
    "id": "xmsxjzLMJgHA"
   },
   "outputs": [],
   "source": [
    "model = CrossEncoder('vectara/hallucination_evaluation_model')"
   ]
  },
  {
   "cell_type": "markdown",
   "metadata": {
    "id": "gaVg2ZErPHru"
   },
   "source": [
    "This model was trained using SentenceTransformers Cross-Encoder class.\n",
    "\n",
    "* The model outputs a probabilitity from 0 to 1\n",
    "* 0 being a hallucination and 1 being factually consistent.\n",
    "\n",
    "* The predictions can be thresholded at 0.5 to predict whether a document is consistent with its source."
   ]
  },
  {
   "cell_type": "code",
   "execution_count": null,
   "metadata": {
    "id": "RYIUIEZ1Jk0g"
   },
   "outputs": [],
   "source": [
    "def get_hallucination_score(model,sentence1, sentence2):\n",
    "  score = model.predict(sentences=[sentence1, sentence2])\n",
    "  print(f\"Hallucination Score \\nSentence 1: '{sentence1}'\\nSentence 2: '{sentence2}'\\nScore: {score}\")"
   ]
  },
  {
   "cell_type": "code",
   "execution_count": null,
   "metadata": {
    "colab": {
     "base_uri": "https://localhost:8080/"
    },
    "id": "lodeFFFELmEx",
    "outputId": "c7240fff-047f-41a8-a014-ae1f389036da"
   },
   "outputs": [
    {
     "name": "stdout",
     "output_type": "stream",
     "text": [
      "Hallucination Score \n",
      "Sentence 1: 'I love apples'\n",
      "Sentence 2: 'Apples are tasty and I like eating them'\n",
      "Score: 0.9832478761672974\n"
     ]
    }
   ],
   "source": [
    "get_hallucination_score(model,\"I love apples\",\"Apples are tasty and I like eating them\")"
   ]
  },
  {
   "cell_type": "code",
   "execution_count": null,
   "metadata": {
    "colab": {
     "base_uri": "https://localhost:8080/"
    },
    "id": "u1vzq_ywMJ8g",
    "outputId": "efd3192e-2d27-4587-b94b-dc457648623c"
   },
   "outputs": [
    {
     "name": "stdout",
     "output_type": "stream",
     "text": [
      "Hallucination Score \n",
      "Sentence 1: 'A man walks into a bar and buys a drink'\n",
      "Sentence 2: 'A bloke swigs alcohol at a pub'\n",
      "Score: 0.6105157732963562\n"
     ]
    }
   ],
   "source": [
    "get_hallucination_score(model,\"A man walks into a bar and buys a drink\", \"A bloke swigs alcohol at a pub\")"
   ]
  },
  {
   "cell_type": "code",
   "execution_count": null,
   "metadata": {
    "colab": {
     "base_uri": "https://localhost:8080/"
    },
    "id": "28w9Kuq0NDLY",
    "outputId": "7b956ec9-0b2d-4892-d2e1-8419338d0799"
   },
   "outputs": [
    {
     "name": "stdout",
     "output_type": "stream",
     "text": [
      "Hallucination Score \n",
      "Sentence 1: 'Ramesh was a fan of Suresh'\n",
      "Sentence 2: 'Suresh was a fan of Ramesh'\n",
      "Score: 0.00019717187387868762\n"
     ]
    }
   ],
   "source": [
    "# Hallucination\n",
    "get_hallucination_score(model,\"Ramesh was a fan of Suresh\", \"Suresh was a fan of Ramesh\")"
   ]
  },
  {
   "cell_type": "code",
   "execution_count": null,
   "metadata": {
    "colab": {
     "base_uri": "https://localhost:8080/"
    },
    "id": "i_kLFVyENgTI",
    "outputId": "c564b897-fc63-410f-85e5-194f31472634"
   },
   "outputs": [
    {
     "name": "stdout",
     "output_type": "stream",
     "text": [
      "Hallucination Score \n",
      "Sentence 1: 'A man with blond-hair, and a brown shirt drinking out of a public water fountain.'\n",
      "Sentence 2: 'A blond man wearing a brown shirt is reading a book.'\n",
      "Score: 0.0014126981841400266\n"
     ]
    }
   ],
   "source": [
    "get_hallucination_score(model,\"A man with blond-hair, and a brown shirt drinking out of a public water fountain.\", \"A blond man wearing a brown shirt is reading a book.\")"
   ]
  },
  {
   "cell_type": "code",
   "execution_count": null,
   "metadata": {
    "colab": {
     "base_uri": "https://localhost:8080/"
    },
    "id": "VIu6mdSSPfN2",
    "outputId": "b3a84f29-0c17-4c61-98b3-0378a9d2dd22"
   },
   "outputs": [
    {
     "name": "stdout",
     "output_type": "stream",
     "text": [
      "Hallucination Score \n",
      "Sentence 1: 'A man with blond-hair, and a brown shirt drinking out of a public water fountain.'\n",
      "Sentence 2: 'A blond man wearing a brown shirt is drinking water in public'\n",
      "Score: 0.9944663643836975\n"
     ]
    }
   ],
   "source": [
    "get_hallucination_score(model,\n",
    "                        \"A man with blond-hair, and a brown shirt drinking out of a public water fountain.\",\n",
    "                        \"A blond man wearing a brown shirt is drinking water in public\")"
   ]
  },
  {
   "cell_type": "code",
   "execution_count": null,
   "metadata": {
    "colab": {
     "base_uri": "https://localhost:8080/"
    },
    "id": "9RzmRfV8Ptq2",
    "outputId": "3a7d1012-8cff-464f-b29a-599dd5cc7874"
   },
   "outputs": [
    {
     "name": "stdout",
     "output_type": "stream",
     "text": [
      "Hallucination Score \n",
      "Sentence 1: 'A boy is jumping on skateboard in the middle of a red bridge.'\n",
      "Sentence 2: 'The boy skates on middle of a red bridge'\n",
      "Score: 0.9916768074035645\n"
     ]
    }
   ],
   "source": [
    "get_hallucination_score(model,\n",
    "                        \"A boy is jumping on skateboard in the middle of a red bridge.\",\n",
    "                        \"The boy skates on middle of a red bridge\")"
   ]
  },
  {
   "cell_type": "markdown",
   "metadata": {
    "id": "CTp_bqWgQr_a"
   },
   "source": [
    "Further reference : https://huggingface.co/vectara/hallucination_evaluation_model"
   ]
  }
 ],
 "metadata": {
  "colab": {
   "authorship_tag": "ABX9TyPEfJS8DlY6abGez37s5bVB",
   "include_colab_link": true,
   "provenance": []
  },
  "kernelspec": {
   "display_name": "Python 3",
   "name": "python3"
  },
  "language_info": {
   "name": "python"
  }
 },
 "nbformat": 4,
 "nbformat_minor": 0
}
